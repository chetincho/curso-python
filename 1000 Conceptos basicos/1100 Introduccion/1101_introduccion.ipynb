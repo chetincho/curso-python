{
 "cells": [
  {
   "cell_type": "markdown",
   "metadata": {},
   "source": [
    "### Introducción"
   ]
  },
  {
   "cell_type": "markdown",
   "metadata": {},
   "source": [
    "Bienvenido al emocionante mundo de la programación en Python. En esta breve introducción nos sumergiremos en el uso de la función `print` la cual te permitirá visualizar en la pantalla los resultados de tus primeros programas."
   ]
  },
  {
   "cell_type": "markdown",
   "metadata": {},
   "source": [
    "A continuación encontrarás el siguiente fragmento de código que no es otro que el clásico \"¡Hola, Mundo!\"."
   ]
  },
  {
   "cell_type": "code",
   "execution_count": 1,
   "metadata": {},
   "outputs": [
    {
     "name": "stdout",
     "output_type": "stream",
     "text": [
      "Hello world!\n"
     ]
    }
   ],
   "source": [
    "print(\"Hello world!\")"
   ]
  },
  {
   "cell_type": "markdown",
   "metadata": {},
   "source": [
    "La función print es una herramienta muy versátil pero ahora nos enfocaremos en su capacidad para mostrar caracteres en pantalla. La sintaxis básica es sencilla:\n",
    "\n",
    "`print(\"Aquí va el texto a mostrar en pantalla\")`\n",
    "\n",
    "Es importante destacar que puedes utilizar tanto comillas dobles como simples, pero nunca una combinación de ambas, ya que esto generará un error en tu programa:"
   ]
  },
  {
   "cell_type": "code",
   "execution_count": 3,
   "metadata": {},
   "outputs": [
    {
     "name": "stdout",
     "output_type": "stream",
     "text": [
      "Hello world! usando comillas simples\n"
     ]
    }
   ],
   "source": [
    "print('Hello world! usando comillas simples')"
   ]
  },
  {
   "cell_type": "code",
   "execution_count": 2,
   "metadata": {},
   "outputs": [
    {
     "ename": "SyntaxError",
     "evalue": "unterminated string literal (detected at line 1) (4233805648.py, line 1)",
     "output_type": "error",
     "traceback": [
      "\u001b[1;36m  Cell \u001b[1;32mIn[2], line 1\u001b[1;36m\u001b[0m\n\u001b[1;33m    `print(\"Hola mundo con error')`\u001b[0m\n\u001b[1;37m           ^\u001b[0m\n\u001b[1;31mSyntaxError\u001b[0m\u001b[1;31m:\u001b[0m unterminated string literal (detected at line 1)\n"
     ]
    }
   ],
   "source": [
    "`print(\"Hola mundo con error')`"
   ]
  },
  {
   "cell_type": "markdown",
   "metadata": {},
   "source": [
    "A continuación vamos a jugar un poco, utilizaremos la guncion print para dibujar un árbol de Navidad."
   ]
  },
  {
   "cell_type": "code",
   "execution_count": 4,
   "metadata": {},
   "outputs": [
    {
     "name": "stdout",
     "output_type": "stream",
     "text": [
      "          +\n",
      "         ---\n",
      "        --0--\n",
      "       --0--0-\n",
      "      ----0----\n",
      "     -0------0--\n",
      "    ----0-----0--\n",
      "   --0----0-------\n",
      "  -----0-------0---\n",
      "          8\n",
      "          8\n",
      "          =\n"
     ]
    }
   ],
   "source": [
    "print(\"          +\")\n",
    "print(\"         ---\")\n",
    "print(\"        --0--\")\n",
    "print(\"       --0--0-\")\n",
    "print(\"      ----0----\")\n",
    "print(\"     -0------0--\")\n",
    "print(\"    ----0-----0--\")\n",
    "print(\"   --0----0-------\")\n",
    "print(\"  -----0-------0---\")\n",
    "print(\"          8\")\n",
    "print(\"          8\")\n",
    "print(\"          =\")"
   ]
  },
  {
   "cell_type": "markdown",
   "metadata": {},
   "source": [
    "Ahora vamos a ver como los operadores aritméticos (* y +) se integran con la función print."
   ]
  },
  {
   "cell_type": "code",
   "execution_count": 6,
   "metadata": {},
   "outputs": [
    {
     "name": "stdout",
     "output_type": "stream",
     "text": [
      "Mostramos 5 veces el símbolo @\n",
      "@@@@@\n"
     ]
    }
   ],
   "source": [
    "# Mostramos 5 veces el símbolo @\n",
    "print(\"Mostramos 5 veces el símbolo @\")\n",
    "print(\"@\" * 5)"
   ]
  },
  {
   "cell_type": "code",
   "execution_count": 7,
   "metadata": {},
   "outputs": [
    {
     "name": "stdout",
     "output_type": "stream",
     "text": [
      "Mostramos 10 veces el símbolo $\n",
      "$$$$$$$$$$\n"
     ]
    }
   ],
   "source": [
    "print(\"Mostramos 10 veces el símbolo $\")\n",
    "print(\"$\" * 10)"
   ]
  },
  {
   "cell_type": "markdown",
   "metadata": {},
   "source": [
    "Ahora te muestro que NO podemos usar el operador de suma de la misma forma que utilizamos el operador de multiplicación"
   ]
  },
  {
   "cell_type": "code",
   "execution_count": 8,
   "metadata": {},
   "outputs": [
    {
     "ename": "TypeError",
     "evalue": "can only concatenate str (not \"int\") to str",
     "output_type": "error",
     "traceback": [
      "\u001b[1;31m---------------------------------------------------------------------------\u001b[0m",
      "\u001b[1;31mTypeError\u001b[0m                                 Traceback (most recent call last)",
      "Cell \u001b[1;32mIn[8], line 1\u001b[0m\n\u001b[1;32m----> 1\u001b[0m \u001b[38;5;28mprint\u001b[39m(\u001b[38;5;124;43m\"\u001b[39;49m\u001b[38;5;124;43m*\u001b[39;49m\u001b[38;5;124;43m\"\u001b[39;49m\u001b[43m \u001b[49m\u001b[38;5;241;43m+\u001b[39;49m\u001b[43m \u001b[49m\u001b[38;5;241;43m15\u001b[39;49m)  \n",
      "\u001b[1;31mTypeError\u001b[0m: can only concatenate str (not \"int\") to str"
     ]
    }
   ],
   "source": [
    "print(\"*\" + 15)  "
   ]
  },
  {
   "cell_type": "markdown",
   "metadata": {},
   "source": [
    "El operador de suma lo podemos usar para concatenar/unir dos o mas cadenas de texto."
   ]
  },
  {
   "cell_type": "code",
   "execution_count": 9,
   "metadata": {},
   "outputs": [
    {
     "name": "stdout",
     "output_type": "stream",
     "text": [
      "Holamundo!\n"
     ]
    }
   ],
   "source": [
    "print(\"Hola\" + \"mundo!\")"
   ]
  },
  {
   "cell_type": "markdown",
   "metadata": {},
   "source": [
    "Como podemos ver los terminos \"Hola\" y \"mundo!\" aparecen unidos, vamos a separarlos."
   ]
  },
  {
   "cell_type": "code",
   "execution_count": 10,
   "metadata": {},
   "outputs": [
    {
     "name": "stdout",
     "output_type": "stream",
     "text": [
      "Hola mundo!\n"
     ]
    }
   ],
   "source": [
    "print(\"Hola \" + \"mundo!\")"
   ]
  },
  {
   "cell_type": "code",
   "execution_count": 11,
   "metadata": {},
   "outputs": [
    {
     "name": "stdout",
     "output_type": "stream",
     "text": [
      "Hola mundo!\n"
     ]
    }
   ],
   "source": [
    "print(\"Hola\" + \" \" + \"mundo!\")"
   ]
  },
  {
   "cell_type": "code",
   "execution_count": null,
   "metadata": {},
   "outputs": [],
   "source": []
  },
  {
   "cell_type": "markdown",
   "metadata": {},
   "source": [
    "Continuaremos nuestra travesía en el archivo **1104_introduccion.py**, donde utilizaremos los operadores * y + para crear una intrigante figura geométrica.\n",
    "\n",
    "Por último, en el archivo **1105_introduccion.py**, te dejo un ejemplo para que puedas darle color al resultado de la función print en consola sin la necesidad de importar librerías.\n",
    "\n",
    "Te animo a que no te limites a seguir los ejemplos, sino a dejar volar tu imaginación. Experimenta con la función print y crea diseños que desafíen tu creatividad. Recuerda, la práctica constante es la clave para afianzar tus conocimientos. ¡Manos a la obra y diviértete programando!\n",
    "\n",
    "Desafío Creativo:\n",
    "Anímate a crear un diseño o patrón interesante utilizando únicamente la función print y caracteres especiales. ¡Deja volar tu imaginación!\n",
    "Si lo deseas puedes enviarme tu código Python a mi cuenta de LinkedIn con el diseño que creaste y lo incorporamos en este repositorio.\n",
    "\n",
    "<br>\n",
    "<br>\n",
    "<br>\n",
    "\n",
    "[![LinkedIn](https://img.shields.io/badge/LinkedIn-Martin_Ferraguti-0077B5?style=for-the-badge&logo=linkedin&logoColor=white&labelColor=101010)](https://www.linkedin.com/in/martin-ferraguti/)"
   ]
  }
 ],
 "metadata": {
  "kernelspec": {
   "display_name": "Python 3",
   "language": "python",
   "name": "python3"
  },
  "language_info": {
   "codemirror_mode": {
    "name": "ipython",
    "version": 3
   },
   "file_extension": ".py",
   "mimetype": "text/x-python",
   "name": "python",
   "nbconvert_exporter": "python",
   "pygments_lexer": "ipython3",
   "version": "undefined.undefined.undefined"
  }
 },
 "nbformat": 4,
 "nbformat_minor": 2
}
